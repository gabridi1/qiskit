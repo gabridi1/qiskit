{
 "cells": [
  {
   "cell_type": "code",
   "execution_count": 3,
   "id": "f011908a",
   "metadata": {},
   "outputs": [],
   "source": [
    "from qiskit import *\n",
    "from qiskit.tools.monitor import job_monitor\n",
    "from qiskit.tools.visualization import plot_histogram\n",
    "from qiskit import Aer\n",
    "from qiskit import QuantumCircuit, QuantumRegister\n",
    "from qiskit.quantum_info import state_fidelity\n",
    "import numpy as np"
   ]
  },
  {
   "cell_type": "code",
   "execution_count": 4,
   "id": "af070ac2",
   "metadata": {},
   "outputs": [
    {
     "name": "stdout",
     "output_type": "stream",
     "text": [
      "n =  4\n",
      "M =  2.0\n"
     ]
    }
   ],
   "source": [
    "n = 4\n",
    "\n",
    "#M = 4 #Exata\n",
    "M = np.round(np.log2(n)) #Aproximada\n",
    "#M = 3 #Arbitrariamente aproximada\n",
    "\n",
    "print('n = ', n)\n",
    "print('M = ', M)\n",
    "\n",
    "#QTF\n",
    "def QFT(n, M, j):\n",
    "    Q = QuantumRegister(n)\n",
    "    circuito = QuantumCircuit(Q)\n",
    "    \n",
    "    if np.linalg.norm(j) == 1:       \n",
    "        circuito.initialize(j, Q)\n",
    "\n",
    "    for m in range(n - 1, -1, -1):\n",
    "        circuito.h(Q[m])\n",
    "\n",
    "        for k in range(m):\n",
    "            if m - k < M:\n",
    "                circuito.cp(np.pi/2**(m - k), Q[k], Q[m])\n",
    "\n",
    "    for k in range(n//2):\n",
    "        circuito.swap(Q[k], Q[n - k - 1])\n",
    "        \n",
    "    return circuito\n",
    "\n",
    "#QTF'\n",
    "def iQFT(n, m, j):\n",
    "    Q = QuantumRegister(n)\n",
    "    circuito = QuantumCircuit(Q)\n",
    "    \n",
    "    if np.linalg.norm(j) == 1:       \n",
    "        circuito.initialize(j, Q)\n",
    "\n",
    "    for k in range(n//2):\n",
    "        circuito.swap(Q[k], Q[n - k - 1])\n",
    "\n",
    "    for m in range(n):\n",
    "        for k in range(m, -1, -1):\n",
    "            if k != m:\n",
    "                if m - k < M:\n",
    "                    circuito.cp(-np.pi/2**(m - k), Q[k], Q[m])          \n",
    "        circuito.h(Q[m])\n",
    "        \n",
    "    return circuito"
   ]
  },
  {
   "cell_type": "code",
   "execution_count": 5,
   "id": "3e0a5640",
   "metadata": {},
   "outputs": [
    {
     "data": {
      "image/png": "[encoded data removed]",
      "text/plain": [
       "<Figure size 761.778x264.88 with 1 Axes>"
      ]
     },
     "execution_count": 5,
     "metadata": {},
     "output_type": "execute_result"
    }
   ],
   "source": [
    "#QFT\n",
    "circuito = QFT(n, M, 0)\n",
    "circuito.draw(output='mpl')"
   ]
  },
  {
   "cell_type": "code",
   "execution_count": 6,
   "id": "971fac96",
   "metadata": {},
   "outputs": [
    {
     "name": "stdout",
     "output_type": "stream",
     "text": [
      "Operator([[ 0.25+0.j  ,  0.25-0.j  ,  0.25-0.j  ,  0.25-0.j  ,\n",
      "            0.25-0.j  ,  0.25-0.j  ,  0.25-0.j  ,  0.25-0.j  ,\n",
      "            0.25-0.j  ,  0.25-0.j  ,  0.25-0.j  ,  0.25-0.j  ,\n",
      "            0.25-0.j  ,  0.25-0.j  ,  0.25-0.j  ,  0.25-0.j  ],\n",
      "          [ 0.25+0.j  ,  0.25-0.j  ,  0.25-0.j  ,  0.25-0.j  ,\n",
      "            0.  +0.25j,  0.  +0.25j,  0.  +0.25j,  0.  +0.25j,\n",
      "           -0.25+0.j  , -0.25+0.j  , -0.25+0.j  , -0.25+0.j  ,\n",
      "           -0.  -0.25j, -0.  -0.25j, -0.  -0.25j, -0.  -0.25j],\n",
      "          [ 0.25+0.j  ,  0.25-0.j  ,  0.  +0.25j,  0.  +0.25j,\n",
      "           -0.25+0.j  , -0.25+0.j  , -0.  -0.25j, -0.  -0.25j,\n",
      "            0.25-0.j  ,  0.25-0.j  ,  0.  +0.25j,  0.  +0.25j,\n",
      "           -0.25+0.j  , -0.25+0.j  , -0.  -0.25j, -0.  -0.25j],\n",
      "          [ 0.25+0.j  ,  0.25-0.j  ,  0.  +0.25j,  0.  +0.25j,\n",
      "           -0.  -0.25j, -0.  -0.25j,  0.25-0.j  ,  0.25-0.j  ,\n",
      "           -0.25+0.j  , -0.25+0.j  , -0.  -0.25j, -0.  -0.25j,\n",
      "            0.  +0.25j,  0.  +0.25j, -0.25+0.j  , -0.25+0.j  ],\n",
      "          [ 0.25+0.j  ,  0.  +0.25j, -0.25+0.j  , -0.  -0.25j,\n",
      "            0.25-0.j  ,  0.  +0.25j, -0.25+0.j  , -0.  -0.25j,\n",
      "            0.25-0.j  ,  0.  +0.25j, -0.25+0.j  , -0.  -0.25j,\n",
      "            0.25-0.j  ,  0.  +0.25j, -0.25+0.j  , -0.  -0.25j],\n",
      "          [ 0.25+0.j  ,  0.  +0.25j, -0.25+0.j  , -0.  -0.25j,\n",
      "            0.  +0.25j, -0.25+0.j  , -0.  -0.25j,  0.25-0.j  ,\n",
      "           -0.25+0.j  , -0.  -0.25j,  0.25-0.j  ,  0.  +0.25j,\n",
      "           -0.  -0.25j,  0.25-0.j  ,  0.  +0.25j, -0.25+0.j  ],\n",
      "          [ 0.25+0.j  ,  0.  +0.25j, -0.  -0.25j,  0.25-0.j  ,\n",
      "           -0.25+0.j  , -0.  -0.25j,  0.  +0.25j, -0.25+0.j  ,\n",
      "            0.25-0.j  ,  0.  +0.25j, -0.  -0.25j,  0.25-0.j  ,\n",
      "           -0.25+0.j  , -0.  -0.25j,  0.  +0.25j, -0.25+0.j  ],\n",
      "          [ 0.25+0.j  ,  0.  +0.25j, -0.  -0.25j,  0.25-0.j  ,\n",
      "           -0.  -0.25j,  0.25-0.j  , -0.25+0.j  , -0.  -0.25j,\n",
      "           -0.25+0.j  , -0.  -0.25j,  0.  +0.25j, -0.25+0.j  ,\n",
      "            0.  +0.25j, -0.25+0.j  ,  0.25-0.j  ,  0.  +0.25j],\n",
      "          [ 0.25+0.j  , -0.25+0.j  ,  0.25-0.j  , -0.25+0.j  ,\n",
      "            0.25-0.j  , -0.25+0.j  ,  0.25-0.j  , -0.25+0.j  ,\n",
      "            0.25-0.j  , -0.25+0.j  ,  0.25-0.j  , -0.25+0.j  ,\n",
      "            0.25-0.j  , -0.25+0.j  ,  0.25-0.j  , -0.25+0.j  ],\n",
      "          [ 0.25+0.j  , -0.25+0.j  ,  0.25-0.j  , -0.25+0.j  ,\n",
      "            0.  +0.25j, -0.  -0.25j,  0.  +0.25j, -0.  -0.25j,\n",
      "           -0.25+0.j  ,  0.25-0.j  , -0.25+0.j  ,  0.25-0.j  ,\n",
      "           -0.  -0.25j,  0.  +0.25j, -0.  -0.25j,  0.  +0.25j],\n",
      "          [ 0.25+0.j  , -0.25+0.j  ,  0.  +0.25j, -0.  -0.25j,\n",
      "           -0.25+0.j  ,  0.25-0.j  , -0.  -0.25j,  0.  +0.25j,\n",
      "            0.25-0.j  , -0.25+0.j  ,  0.  +0.25j, -0.  -0.25j,\n",
      "           -0.25+0.j  ,  0.25-0.j  , -0.  -0.25j,  0.  +0.25j],\n",
      "          [ 0.25+0.j  , -0.25+0.j  ,  0.  +0.25j, -0.  -0.25j,\n",
      "           -0.  -0.25j,  0.  +0.25j,  0.25-0.j  , -0.25+0.j  ,\n",
      "           -0.25+0.j  ,  0.25-0.j  , -0.  -0.25j,  0.  +0.25j,\n",
      "            0.  +0.25j, -0.  -0.25j, -0.25+0.j  ,  0.25-0.j  ],\n",
      "          [ 0.25+0.j  , -0.  -0.25j, -0.25+0.j  ,  0.  +0.25j,\n",
      "            0.25-0.j  , -0.  -0.25j, -0.25+0.j  ,  0.  +0.25j,\n",
      "            0.25-0.j  , -0.  -0.25j, -0.25+0.j  ,  0.  +0.25j,\n",
      "            0.25-0.j  , -0.  -0.25j, -0.25+0.j  ,  0.  +0.25j],\n",
      "          [ 0.25+0.j  , -0.  -0.25j, -0.25+0.j  ,  0.  +0.25j,\n",
      "            0.  +0.25j,  0.25-0.j  , -0.  -0.25j, -0.25+0.j  ,\n",
      "           -0.25+0.j  ,  0.  +0.25j,  0.25-0.j  , -0.  -0.25j,\n",
      "           -0.  -0.25j, -0.25+0.j  ,  0.  +0.25j,  0.25-0.j  ],\n",
      "          [ 0.25+0.j  , -0.  -0.25j, -0.  -0.25j, -0.25+0.j  ,\n",
      "           -0.25+0.j  ,  0.  +0.25j,  0.  +0.25j,  0.25-0.j  ,\n",
      "            0.25-0.j  , -0.  -0.25j, -0.  -0.25j, -0.25+0.j  ,\n",
      "           -0.25+0.j  ,  0.  +0.25j,  0.  +0.25j,  0.25-0.j  ],\n",
      "          [ 0.25+0.j  , -0.  -0.25j, -0.  -0.25j, -0.25+0.j  ,\n",
      "           -0.  -0.25j, -0.25+0.j  , -0.25+0.j  ,  0.  +0.25j,\n",
      "           -0.25+0.j  ,  0.  +0.25j,  0.  +0.25j,  0.25-0.j  ,\n",
      "            0.  +0.25j,  0.25-0.j  ,  0.25-0.j  , -0.  -0.25j]],\n",
      "         input_dims=(2, 2, 2, 2), output_dims=(2, 2, 2, 2))\n"
     ]
    }
   ],
   "source": [
    "backend = Aer.get_backend('unitary_simulator')\n",
    "job = backend.run(circuito)\n",
    "result = job.result()\n",
    "print(result.get_unitary(circuito, decimals=3))"
   ]
  },
  {
   "cell_type": "code",
   "execution_count": 7,
   "id": "527dd764",
   "metadata": {},
   "outputs": [
    {
     "data": {
      "image/png": "[encoded data removed]",
      "text/plain": [
       "<Figure size 761.923x264.88 with 1 Axes>"
      ]
     },
     "execution_count": 7,
     "metadata": {},
     "output_type": "execute_result"
    }
   ],
   "source": [
    "#QTF'\n",
    "circuito = iQFT(n, M, 0)\n",
    "circuito.draw(output='mpl')"
   ]
  },
  {
   "cell_type": "code",
   "execution_count": 8,
   "id": "d9f28d16",
   "metadata": {},
   "outputs": [
    {
     "name": "stdout",
     "output_type": "stream",
     "text": [
      "Operator([[ 0.25+0.j  ,  0.25-0.j  ,  0.25-0.j  ,  0.25-0.j  ,\n",
      "            0.25-0.j  ,  0.25-0.j  ,  0.25-0.j  ,  0.25-0.j  ,\n",
      "            0.25-0.j  ,  0.25-0.j  ,  0.25-0.j  ,  0.25-0.j  ,\n",
      "            0.25-0.j  ,  0.25-0.j  ,  0.25-0.j  ,  0.25-0.j  ],\n",
      "          [ 0.25+0.j  ,  0.25-0.j  ,  0.25-0.j  ,  0.25-0.j  ,\n",
      "           -0.  -0.25j, -0.  -0.25j, -0.  -0.25j, -0.  -0.25j,\n",
      "           -0.25+0.j  , -0.25+0.j  , -0.25+0.j  , -0.25+0.j  ,\n",
      "            0.  +0.25j,  0.  +0.25j,  0.  +0.25j,  0.  +0.25j],\n",
      "          [ 0.25+0.j  ,  0.25-0.j  , -0.  -0.25j, -0.  -0.25j,\n",
      "           -0.25+0.j  , -0.25+0.j  ,  0.  +0.25j,  0.  +0.25j,\n",
      "            0.25-0.j  ,  0.25-0.j  , -0.  -0.25j, -0.  -0.25j,\n",
      "           -0.25+0.j  , -0.25+0.j  ,  0.  +0.25j,  0.  +0.25j],\n",
      "          [ 0.25+0.j  ,  0.25-0.j  , -0.  -0.25j, -0.  -0.25j,\n",
      "            0.  +0.25j,  0.  +0.25j,  0.25-0.j  ,  0.25-0.j  ,\n",
      "           -0.25+0.j  , -0.25+0.j  ,  0.  +0.25j,  0.  +0.25j,\n",
      "           -0.  -0.25j, -0.  -0.25j, -0.25+0.j  , -0.25+0.j  ],\n",
      "          [ 0.25+0.j  , -0.  -0.25j, -0.25+0.j  ,  0.  +0.25j,\n",
      "            0.25-0.j  , -0.  -0.25j, -0.25+0.j  ,  0.  +0.25j,\n",
      "            0.25-0.j  , -0.  -0.25j, -0.25+0.j  ,  0.  +0.25j,\n",
      "            0.25-0.j  , -0.  -0.25j, -0.25+0.j  ,  0.  +0.25j],\n",
      "          [ 0.25+0.j  , -0.  -0.25j, -0.25+0.j  ,  0.  +0.25j,\n",
      "           -0.  -0.25j, -0.25+0.j  ,  0.  +0.25j,  0.25-0.j  ,\n",
      "           -0.25+0.j  ,  0.  +0.25j,  0.25-0.j  , -0.  -0.25j,\n",
      "            0.  +0.25j,  0.25-0.j  , -0.  -0.25j, -0.25+0.j  ],\n",
      "          [ 0.25+0.j  , -0.  -0.25j,  0.  +0.25j,  0.25-0.j  ,\n",
      "           -0.25+0.j  ,  0.  +0.25j, -0.  -0.25j, -0.25+0.j  ,\n",
      "            0.25-0.j  , -0.  -0.25j,  0.  +0.25j,  0.25-0.j  ,\n",
      "           -0.25+0.j  ,  0.  +0.25j, -0.  -0.25j, -0.25+0.j  ],\n",
      "          [ 0.25+0.j  , -0.  -0.25j,  0.  +0.25j,  0.25-0.j  ,\n",
      "            0.  +0.25j,  0.25-0.j  , -0.25+0.j  ,  0.  +0.25j,\n",
      "           -0.25+0.j  ,  0.  +0.25j, -0.  -0.25j, -0.25+0.j  ,\n",
      "           -0.  -0.25j, -0.25+0.j  ,  0.25-0.j  , -0.  -0.25j],\n",
      "          [ 0.25+0.j  , -0.25+0.j  ,  0.25-0.j  , -0.25+0.j  ,\n",
      "            0.25-0.j  , -0.25+0.j  ,  0.25-0.j  , -0.25+0.j  ,\n",
      "            0.25-0.j  , -0.25+0.j  ,  0.25-0.j  , -0.25+0.j  ,\n",
      "            0.25-0.j  , -0.25+0.j  ,  0.25-0.j  , -0.25+0.j  ],\n",
      "          [ 0.25+0.j  , -0.25+0.j  ,  0.25-0.j  , -0.25+0.j  ,\n",
      "           -0.  -0.25j,  0.  +0.25j, -0.  -0.25j,  0.  +0.25j,\n",
      "           -0.25+0.j  ,  0.25-0.j  , -0.25+0.j  ,  0.25-0.j  ,\n",
      "            0.  +0.25j, -0.  -0.25j,  0.  +0.25j, -0.  -0.25j],\n",
      "          [ 0.25+0.j  , -0.25+0.j  , -0.  -0.25j,  0.  +0.25j,\n",
      "           -0.25+0.j  ,  0.25-0.j  ,  0.  +0.25j, -0.  -0.25j,\n",
      "            0.25-0.j  , -0.25+0.j  , -0.  -0.25j,  0.  +0.25j,\n",
      "           -0.25+0.j  ,  0.25-0.j  ,  0.  +0.25j, -0.  -0.25j],\n",
      "          [ 0.25+0.j  , -0.25+0.j  , -0.  -0.25j,  0.  +0.25j,\n",
      "            0.  +0.25j, -0.  -0.25j,  0.25-0.j  , -0.25+0.j  ,\n",
      "           -0.25+0.j  ,  0.25-0.j  ,  0.  +0.25j, -0.  -0.25j,\n",
      "           -0.  -0.25j,  0.  +0.25j, -0.25+0.j  ,  0.25-0.j  ],\n",
      "          [ 0.25+0.j  ,  0.  +0.25j, -0.25+0.j  , -0.  -0.25j,\n",
      "            0.25-0.j  ,  0.  +0.25j, -0.25+0.j  , -0.  -0.25j,\n",
      "            0.25-0.j  ,  0.  +0.25j, -0.25+0.j  , -0.  -0.25j,\n",
      "            0.25-0.j  ,  0.  +0.25j, -0.25+0.j  , -0.  -0.25j],\n",
      "          [ 0.25+0.j  ,  0.  +0.25j, -0.25+0.j  , -0.  -0.25j,\n",
      "           -0.  -0.25j,  0.25-0.j  ,  0.  +0.25j, -0.25+0.j  ,\n",
      "           -0.25+0.j  , -0.  -0.25j,  0.25-0.j  ,  0.  +0.25j,\n",
      "            0.  +0.25j, -0.25+0.j  , -0.  -0.25j,  0.25-0.j  ],\n",
      "          [ 0.25+0.j  ,  0.  +0.25j,  0.  +0.25j, -0.25+0.j  ,\n",
      "           -0.25+0.j  , -0.  -0.25j, -0.  -0.25j,  0.25-0.j  ,\n",
      "            0.25-0.j  ,  0.  +0.25j,  0.  +0.25j, -0.25+0.j  ,\n",
      "           -0.25+0.j  , -0.  -0.25j, -0.  -0.25j,  0.25-0.j  ],\n",
      "          [ 0.25+0.j  ,  0.  +0.25j,  0.  +0.25j, -0.25+0.j  ,\n",
      "            0.  +0.25j, -0.25+0.j  , -0.25+0.j  , -0.  -0.25j,\n",
      "           -0.25+0.j  , -0.  -0.25j, -0.  -0.25j,  0.25-0.j  ,\n",
      "           -0.  -0.25j,  0.25-0.j  ,  0.25-0.j  ,  0.  +0.25j]],\n",
      "         input_dims=(2, 2, 2, 2), output_dims=(2, 2, 2, 2))\n"
     ]
    }
   ],
   "source": [
    "backend = Aer.get_backend('unitary_simulator')\n",
    "job = backend.run(circuito)\n",
    "result = job.result()\n",
    "print(result.get_unitary(circuito, decimals=3))"
   ]
  },
  {
   "cell_type": "code",
   "execution_count": 9,
   "id": "9104f816",
   "metadata": {},
   "outputs": [
    {
     "name": "stdout",
     "output_type": "stream",
     "text": [
      "jo =  [0.+0.j 0.+0.j 0.+0.j 0.+0.j 0.+0.j 0.+0.j 0.+0.j 0.+0.j 0.+0.j 0.+0.j\n",
      " 0.+0.j 0.+0.j 0.+0.j 0.+0.j 0.+0.j 1.+0.j]\n"
     ]
    }
   ],
   "source": [
    "#Estado arbitrário\n",
    "jo = np.zeros(2**n, dtype = 'complex_')\n",
    "jo[15] = 1\n",
    "print('jo = ', jo)"
   ]
  },
  {
   "cell_type": "code",
   "execution_count": 10,
   "id": "958909af",
   "metadata": {},
   "outputs": [
    {
     "name": "stdout",
     "output_type": "stream",
     "text": [
      "k =  Statevector([ 0.25-0.j  , -0.  -0.25j, -0.  -0.25j, -0.25+0.j  ,\n",
      "             -0.  -0.25j, -0.25+0.j  , -0.25+0.j  ,  0.  +0.25j,\n",
      "             -0.25+0.j  ,  0.  +0.25j,  0.  +0.25j,  0.25-0.j  ,\n",
      "              0.  +0.25j,  0.25-0.j  ,  0.25-0.j  , -0.  -0.25j],\n",
      "            dims=(2, 2, 2, 2))\n"
     ]
    }
   ],
   "source": [
    "#QTF\n",
    "circuito = QFT(n, M, jo)\n",
    "\n",
    "back_vector = Aer.get_backend('statevector_simulator')\n",
    "job_vector = execute(circuito, back_vector)\n",
    "resultado = job_vector.result()\n",
    "vector = resultado.get_statevector(circuito, decimals=10)\n",
    "\n",
    "print('k = ', vector)"
   ]
  },
  {
   "cell_type": "code",
   "execution_count": 11,
   "id": "93973e2b",
   "metadata": {},
   "outputs": [
    {
     "name": "stdout",
     "output_type": "stream",
     "text": [
      "k =  Statevector([ 0.25-0.j  ,  0.  +0.25j,  0.  +0.25j, -0.25+0.j  ,\n",
      "              0.  +0.25j, -0.25+0.j  , -0.25+0.j  , -0.  -0.25j,\n",
      "             -0.25+0.j  , -0.  -0.25j, -0.  -0.25j,  0.25-0.j  ,\n",
      "             -0.  -0.25j,  0.25-0.j  ,  0.25-0.j  ,  0.  +0.25j],\n",
      "            dims=(2, 2, 2, 2))\n"
     ]
    }
   ],
   "source": [
    "#QTF'\n",
    "circuito = iQFT(n, M, jo)\n",
    "\n",
    "back_vector = Aer.get_backend('statevector_simulator')\n",
    "job_vector = execute(circuito, back_vector)\n",
    "resultado = job_vector.result()\n",
    "vector = resultado.get_statevector(circuito, decimals=10)\n",
    "\n",
    "print('k = ', vector)"
   ]
  },
  {
   "cell_type": "code",
   "execution_count": 12,
   "id": "a209ee1e",
   "metadata": {},
   "outputs": [
    {
     "name": "stdout",
     "output_type": "stream",
     "text": [
      "Exato:  Statevector([ 0.25      -0.j        ,  0.23096988+0.09567086j,\n",
      "              0.1767767 +0.1767767j ,  0.09567086+0.23096988j,\n",
      "              0.        +0.25j      , -0.09567086+0.23096988j,\n",
      "             -0.1767767 +0.1767767j , -0.23096988+0.09567086j,\n",
      "             -0.25      +0.j        , -0.23096988-0.09567086j,\n",
      "             -0.1767767 -0.1767767j , -0.09567086-0.23096988j,\n",
      "             -0.        -0.25j      ,  0.09567086-0.23096988j,\n",
      "              0.1767767 -0.1767767j ,  0.23096988-0.09567086j],\n",
      "            dims=(2, 2, 2, 2))\n",
      "Aproximado:  Statevector([ 0.25-0.j  ,  0.  +0.25j,  0.  +0.25j, -0.25+0.j  ,\n",
      "              0.  +0.25j, -0.25+0.j  , -0.25+0.j  , -0.  -0.25j,\n",
      "             -0.25+0.j  , -0.  -0.25j, -0.  -0.25j,  0.25-0.j  ,\n",
      "             -0.  -0.25j,  0.25-0.j  ,  0.25-0.j  ,  0.  +0.25j],\n",
      "            dims=(2, 2, 2, 2))\n",
      "Fidelidade =  0.5900970658422702\n"
     ]
    }
   ],
   "source": [
    "n = 4\n",
    "j = np.zeros(2**n)\n",
    "j[2**n - 1] = 1\n",
    "\n",
    "#Exata\n",
    "M = n\n",
    "circuito = iQFT(n, M, j)\n",
    "back_vector = Aer.get_backend('statevector_simulator') #statevector_simulator bakend\n",
    "job_vector = execute(circuito, back_vector)\n",
    "resultado = job_vector.result()\n",
    "vector1 = resultado.get_statevector(circuito, decimals=10) #Vetor de estado\n",
    "\n",
    "#Aproximada\n",
    "M = np.round(np.log2(n))\n",
    "circuito = iQFT(n, M, j)\n",
    "back_vector = Aer.get_backend('statevector_simulator') #statevector_simulator bakend\n",
    "job_vector = execute(circuito, back_vector)\n",
    "resultado = job_vector.result()\n",
    "vector2 = resultado.get_statevector(circuito, decimals=10) #Vetor de estado\n",
    "\n",
    "#Fidelidade\n",
    "fidelidade = state_fidelity(vector1, vector2)\n",
    "\n",
    "print('Exato: ', vector1)\n",
    "print('Aproximado: ', vector2)\n",
    "print('Fidelidade = ', fidelidade)"
   ]
  },
  {
   "cell_type": "code",
   "execution_count": null,
   "id": "477d6707",
   "metadata": {},
   "outputs": [],
   "source": []
  }
 ],
 "metadata": {
  "kernelspec": {
   "display_name": "Python 3 (ipykernel)",
   "language": "python",
   "name": "python3"
  },
  "language_info": {
   "codemirror_mode": {
    "name": "ipython",
    "version": 3
   },
   "file_extension": ".py",
   "mimetype": "text/x-python",
   "name": "python",
   "nbconvert_exporter": "python",
   "pygments_lexer": "ipython3",
   "version": "3.9.12"
  }
 },
 "nbformat": 4,
 "nbformat_minor": 5
}
